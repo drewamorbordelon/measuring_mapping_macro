{
 "cells": [
  {
   "cell_type": "code",
   "execution_count": null,
   "id": "9fd0ce63",
   "metadata": {},
   "outputs": [],
   "source": [
    "# Key for Quandl API\n",
    "quandl.ApiConfig.api_key='1mEBe1BeVaAExprr7akA'"
   ]
  }
 ],
 "metadata": {
  "kernelspec": {
   "display_name": "Python 3 (ipykernel)",
   "language": "python",
   "name": "python3"
  },
  "language_info": {
   "codemirror_mode": {
    "name": "ipython",
    "version": 3
   },
   "file_extension": ".py",
   "mimetype": "text/x-python",
   "name": "python",
   "nbconvert_exporter": "python",
   "pygments_lexer": "ipython3",
   "version": "3.8.10"
  }
 },
 "nbformat": 4,
 "nbformat_minor": 5
}
